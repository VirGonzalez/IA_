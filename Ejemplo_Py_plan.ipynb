{
  "nbformat": 4,
  "nbformat_minor": 0,
  "metadata": {
    "colab": {
      "provenance": [],
      "include_colab_link": true
    },
    "kernelspec": {
      "name": "python3",
      "display_name": "Python 3"
    },
    "language_info": {
      "name": "python"
    }
  },
  "cells": [
    {
      "cell_type": "markdown",
      "metadata": {
        "id": "view-in-github",
        "colab_type": "text"
      },
      "source": [
        "<a href=\"https://colab.research.google.com/github/VirGonzalez/IA_/blob/main/Ejemplo_Py_plan.ipynb\" target=\"_parent\"><img src=\"https://colab.research.google.com/assets/colab-badge.svg\" alt=\"Open In Colab\"/></a>"
      ]
    },
    {
      "cell_type": "code",
      "execution_count": null,
      "metadata": {
        "colab": {
          "base_uri": "https://localhost:8080/"
        },
        "id": "L99C0XtPSVwl",
        "outputId": "46c4d8d2-bdb7-4418-9daf-16bb779bcdf1"
      },
      "outputs": [
        {
          "output_type": "stream",
          "name": "stdout",
          "text": [
            "Collecting py_plan\n",
            "  Downloading py_plan-1.0.0-py2.py3-none-any.whl (16 kB)\n",
            "Collecting py-search (from py_plan)\n",
            "  Downloading py_search-2.8.0-py2.py3-none-any.whl (24 kB)\n",
            "Collecting concept-formation (from py_plan)\n",
            "  Downloading concept_formation-0.3.9-py2.py3-none-any.whl (296 kB)\n",
            "\u001b[2K     \u001b[90m━━━━━━━━━━━━━━━━━━━━━━━━━━━━━━━━━━━━━━\u001b[0m \u001b[32m296.3/296.3 kB\u001b[0m \u001b[31m14.3 MB/s\u001b[0m eta \u001b[36m0:00:00\u001b[0m\n",
            "\u001b[?25hCollecting munkres>=1.0.12 (from concept-formation->py_plan)\n",
            "  Downloading munkres-1.1.4-py2.py3-none-any.whl (7.0 kB)\n",
            "Requirement already satisfied: tabulate in /usr/local/lib/python3.10/dist-packages (from py-search->py_plan) (0.8.10)\n",
            "Installing collected packages: munkres, py-search, concept-formation, py_plan\n",
            "Successfully installed concept-formation-0.3.9 munkres-1.1.4 py-search-2.8.0 py_plan-1.0.0\n"
          ]
        }
      ],
      "source": [
        "!pip install -U py_plan"
      ]
    },
    {
      "cell_type": "code",
      "source": [
        "from operator import ne\n",
        "from py_search.uninformed import depth_first_search\n",
        "from py_search.uninformed import breadth_first_search\n",
        "from py_search.uninformed import iterative_deepening_search\n",
        "from py_plan.total_order import StateSpacePlanningProblem\n",
        "from py_plan.base import Operator\n",
        "\n",
        "# Definición de las acciones como instancias de Operator\n",
        "check = Operator('check',\n",
        "                 [('tiene_teoria', 'Geografia'),\n",
        "                  ('tiene_teoria', 'Literatura'),\n",
        "                  ('tiene_teoria', 'Matematica')],\n",
        "                 [('leer', 'Geografia'),\n",
        "                  ('leer', 'Literatura'),\n",
        "                  ('leer', 'Matematica')])\n",
        "\n",
        "resuelve_ejercicios = Operator('resuelve_ejercicios',\n",
        "                               [('lee', 'Matematica'),\n",
        "                                ('lee', 'Geografia'),\n",
        "                                ('lee', 'Literatura')],\n",
        "                               [('completa_ejercicios', 'Matematica'),\n",
        "                                ('completa_ejercicios', 'Literatura'),\n",
        "                                ('completa_ejercicios', 'Geografia'),\n",
        "                                ('termina_tarea',)])\n",
        "\n",
        "# Indica que el código dentro del if es ejecutado cuando el programa es corrido directamente por el interprete\n",
        "# No, cuando es importado como un módulo\n",
        "if __name__ == \"__main__\":\n",
        "    # Definición del ESTADO INICIAL (lista de tuplas)\n",
        "    start = [('tiene_teoria', 'Matematica'),   # tiene la teoria de matematicas\n",
        "             ('tiene_teoria', 'Literatura'),   # tiene la teoria de literatura\n",
        "             ('tiene_teoria', 'Geografia')     # tiene la teoria de geografia\n",
        "             ]\n",
        "\n",
        "    # Definición del estado final\n",
        "    goal = [('completa_ejercicios', 'Matematica'),\n",
        "            ('completa_ejercicios', 'Literatura'),\n",
        "            ('completa_ejercicios', 'Geografia'),\n",
        "            ('termina_tarea',)]\n",
        "\n",
        "    # Progresión, búsqueda hacia adelante\n",
        "    def progression(x):\n",
        "        return breadth_first_search(x, forward=True, backward=False)\n",
        "\n",
        "    # Definicion del problema con Estado Inicial, Estado Final y Acciones\n",
        "    p = StateSpacePlanningProblem(start, goal, [check, resuelve_ejercicios])\n",
        "\n",
        "    # Ejecución del planner y visualización de resultados\n",
        "    print(next(progression(p)).path())\n",
        "\n",
        "    # Ejecución del planner y visualización de resultados con Búsqueda iterativa en profundidad\n",
        "    print(next(iterative_deepening_search(p)).path())"
      ],
      "metadata": {
        "colab": {
          "base_uri": "https://localhost:8080/",
          "height": 380
        },
        "id": "rFfsI3i2TdcP",
        "outputId": "a62cc728-3cd0-417b-d266-568effd6f924"
      },
      "execution_count": 17,
      "outputs": [
        {
          "output_type": "error",
          "ename": "TypeError",
          "evalue": "ignored",
          "traceback": [
            "\u001b[0;31m---------------------------------------------------------------------------\u001b[0m",
            "\u001b[0;31mTypeError\u001b[0m                                 Traceback (most recent call last)",
            "\u001b[0;32m<ipython-input-17-ad5ab5ff60da>\u001b[0m in \u001b[0;36m<cell line: 28>\u001b[0;34m()\u001b[0m\n\u001b[1;32m     47\u001b[0m \u001b[0;34m\u001b[0m\u001b[0m\n\u001b[1;32m     48\u001b[0m     \u001b[0;31m# Ejecución del planner y visualización de resultados\u001b[0m\u001b[0;34m\u001b[0m\u001b[0;34m\u001b[0m\u001b[0m\n\u001b[0;32m---> 49\u001b[0;31m     \u001b[0mprint\u001b[0m\u001b[0;34m(\u001b[0m\u001b[0mnext\u001b[0m\u001b[0;34m(\u001b[0m\u001b[0mprogression\u001b[0m\u001b[0;34m(\u001b[0m\u001b[0mp\u001b[0m\u001b[0;34m)\u001b[0m\u001b[0;34m)\u001b[0m\u001b[0;34m.\u001b[0m\u001b[0mpath\u001b[0m\u001b[0;34m(\u001b[0m\u001b[0;34m)\u001b[0m\u001b[0;34m)\u001b[0m\u001b[0;34m\u001b[0m\u001b[0;34m\u001b[0m\u001b[0m\n\u001b[0m\u001b[1;32m     50\u001b[0m \u001b[0;34m\u001b[0m\u001b[0m\n\u001b[1;32m     51\u001b[0m     \u001b[0;31m# Ejecución del planner y visualización de resultados con Búsqueda iterativa en profundidad\u001b[0m\u001b[0;34m\u001b[0m\u001b[0;34m\u001b[0m\u001b[0m\n",
            "\u001b[0;32m/usr/local/lib/python3.10/dist-packages/py_search/uninformed.py\u001b[0m in \u001b[0;36mbreadth_first_search\u001b[0;34m(problem, depth_limit, graph, forward, backward)\u001b[0m\n\u001b[1;32m    180\u001b[0m     \u001b[0;34m:\u001b[0m\u001b[0mtype\u001b[0m \u001b[0mdepth_limit\u001b[0m\u001b[0;34m:\u001b[0m \u001b[0mint\u001b[0m \u001b[0;32mor\u001b[0m \u001b[0mfloat\u001b[0m\u001b[0;34m(\u001b[0m\u001b[0;34m'inf'\u001b[0m\u001b[0;34m)\u001b[0m\u001b[0;34m\u001b[0m\u001b[0;34m\u001b[0m\u001b[0m\n\u001b[1;32m    181\u001b[0m     \"\"\"\n\u001b[0;32m--> 182\u001b[0;31m     for solution in choose_search(problem, FIFOQueue, depth_limit=depth_limit,\n\u001b[0m\u001b[1;32m    183\u001b[0m                                   \u001b[0mgraph\u001b[0m\u001b[0;34m=\u001b[0m\u001b[0mgraph\u001b[0m\u001b[0;34m,\u001b[0m \u001b[0mforward\u001b[0m\u001b[0;34m=\u001b[0m\u001b[0mforward\u001b[0m\u001b[0;34m,\u001b[0m\u001b[0;34m\u001b[0m\u001b[0;34m\u001b[0m\u001b[0m\n\u001b[1;32m    184\u001b[0m                                   backward=backward):\n",
            "\u001b[0;32m/usr/local/lib/python3.10/dist-packages/py_search/uninformed.py\u001b[0m in \u001b[0;36mgraph_search\u001b[0;34m(problem, forward_fringe, backward_fringe, depth_limit)\u001b[0m\n\u001b[1;32m     99\u001b[0m             \u001b[0mstate\u001b[0m \u001b[0;34m=\u001b[0m \u001b[0mffringe\u001b[0m\u001b[0;34m.\u001b[0m\u001b[0mpop\u001b[0m\u001b[0;34m(\u001b[0m\u001b[0;34m)\u001b[0m\u001b[0;34m\u001b[0m\u001b[0;34m\u001b[0m\u001b[0m\n\u001b[1;32m    100\u001b[0m             \u001b[0;32mfor\u001b[0m \u001b[0mgoal\u001b[0m \u001b[0;32min\u001b[0m \u001b[0mbfringe\u001b[0m\u001b[0;34m:\u001b[0m\u001b[0;34m\u001b[0m\u001b[0;34m\u001b[0m\u001b[0m\n\u001b[0;32m--> 101\u001b[0;31m                 \u001b[0;32mif\u001b[0m \u001b[0mproblem\u001b[0m\u001b[0;34m.\u001b[0m\u001b[0mgoal_test\u001b[0m\u001b[0;34m(\u001b[0m\u001b[0mstate\u001b[0m\u001b[0;34m,\u001b[0m \u001b[0mgoal\u001b[0m\u001b[0;34m)\u001b[0m\u001b[0;34m:\u001b[0m\u001b[0;34m\u001b[0m\u001b[0;34m\u001b[0m\u001b[0m\n\u001b[0m\u001b[1;32m    102\u001b[0m                     \u001b[0;32myield\u001b[0m \u001b[0mSolutionNode\u001b[0m\u001b[0;34m(\u001b[0m\u001b[0mstate\u001b[0m\u001b[0;34m,\u001b[0m \u001b[0mgoal\u001b[0m\u001b[0;34m)\u001b[0m\u001b[0;34m\u001b[0m\u001b[0;34m\u001b[0m\u001b[0m\n\u001b[1;32m    103\u001b[0m \u001b[0;34m\u001b[0m\u001b[0m\n",
            "\u001b[0;32m/usr/local/lib/python3.10/dist-packages/py_plan/total_order.py\u001b[0m in \u001b[0;36mgoal_test\u001b[0;34m(self, node, goal)\u001b[0m\n\u001b[1;32m    265\u001b[0m     \u001b[0;32mdef\u001b[0m \u001b[0mgoal_test\u001b[0m\u001b[0;34m(\u001b[0m\u001b[0mself\u001b[0m\u001b[0;34m,\u001b[0m \u001b[0mnode\u001b[0m\u001b[0;34m,\u001b[0m \u001b[0mgoal\u001b[0m\u001b[0;34m)\u001b[0m\u001b[0;34m:\u001b[0m\u001b[0;34m\u001b[0m\u001b[0;34m\u001b[0m\u001b[0m\n\u001b[1;32m    266\u001b[0m         \u001b[0mindex\u001b[0m \u001b[0;34m=\u001b[0m \u001b[0mbuild_index\u001b[0m\u001b[0;34m(\u001b[0m\u001b[0mnode\u001b[0m\u001b[0;34m.\u001b[0m\u001b[0mstate\u001b[0m\u001b[0;34m)\u001b[0m\u001b[0;34m\u001b[0m\u001b[0;34m\u001b[0m\u001b[0m\n\u001b[0;32m--> 267\u001b[0;31m         \u001b[0;32mfor\u001b[0m \u001b[0mm\u001b[0m \u001b[0;32min\u001b[0m \u001b[0mpattern_match\u001b[0m\u001b[0;34m(\u001b[0m\u001b[0mgoal\u001b[0m\u001b[0;34m.\u001b[0m\u001b[0mstate\u001b[0m\u001b[0;34m,\u001b[0m \u001b[0mindex\u001b[0m\u001b[0;34m,\u001b[0m \u001b[0;34m{\u001b[0m\u001b[0;34m}\u001b[0m\u001b[0;34m)\u001b[0m\u001b[0;34m:\u001b[0m\u001b[0;34m\u001b[0m\u001b[0;34m\u001b[0m\u001b[0m\n\u001b[0m\u001b[1;32m    268\u001b[0m             \u001b[0;32mfor\u001b[0m \u001b[0mv\u001b[0m \u001b[0;32min\u001b[0m \u001b[0mm\u001b[0m\u001b[0;34m:\u001b[0m\u001b[0;34m\u001b[0m\u001b[0;34m\u001b[0m\u001b[0m\n\u001b[1;32m    269\u001b[0m                 \u001b[0mgoal\u001b[0m\u001b[0;34m.\u001b[0m\u001b[0maction\u001b[0m\u001b[0;34m[\u001b[0m\u001b[0;36m1\u001b[0m\u001b[0;34m]\u001b[0m\u001b[0;34m[\u001b[0m\u001b[0mv\u001b[0m\u001b[0;34m]\u001b[0m \u001b[0;34m=\u001b[0m \u001b[0mm\u001b[0m\u001b[0;34m[\u001b[0m\u001b[0mv\u001b[0m\u001b[0;34m]\u001b[0m\u001b[0;34m\u001b[0m\u001b[0;34m\u001b[0m\u001b[0m\n",
            "\u001b[0;32m/usr/local/lib/python3.10/dist-packages/py_plan/pattern_matching.py\u001b[0m in \u001b[0;36mpattern_match\u001b[0;34m(pattern, index, substitution, partial)\u001b[0m\n\u001b[1;32m    369\u001b[0m     \u001b[0msub\u001b[0m \u001b[0;34m=\u001b[0m \u001b[0mfrozenset\u001b[0m\u001b[0;34m(\u001b[0m\u001b[0msubstitution\u001b[0m\u001b[0;34m.\u001b[0m\u001b[0mitems\u001b[0m\u001b[0;34m(\u001b[0m\u001b[0;34m)\u001b[0m\u001b[0;34m)\u001b[0m\u001b[0;34m\u001b[0m\u001b[0;34m\u001b[0m\u001b[0m\n\u001b[1;32m    370\u001b[0m \u001b[0;34m\u001b[0m\u001b[0m\n\u001b[0;32m--> 371\u001b[0;31m     determined_vars = set(v for t in pattern\n\u001b[0m\u001b[1;32m    372\u001b[0m                           for v in identify_determined_vars(t))\n\u001b[1;32m    373\u001b[0m     \u001b[0;31m# print('DETERMINED', determined_vars)\u001b[0m\u001b[0;34m\u001b[0m\u001b[0;34m\u001b[0m\u001b[0m\n",
            "\u001b[0;32m/usr/local/lib/python3.10/dist-packages/py_plan/pattern_matching.py\u001b[0m in \u001b[0;36m<genexpr>\u001b[0;34m(.0)\u001b[0m\n\u001b[1;32m    370\u001b[0m \u001b[0;34m\u001b[0m\u001b[0m\n\u001b[1;32m    371\u001b[0m     determined_vars = set(v for t in pattern\n\u001b[0;32m--> 372\u001b[0;31m                           for v in identify_determined_vars(t))\n\u001b[0m\u001b[1;32m    373\u001b[0m     \u001b[0;31m# print('DETERMINED', determined_vars)\u001b[0m\u001b[0;34m\u001b[0m\u001b[0;34m\u001b[0m\u001b[0m\n\u001b[1;32m    374\u001b[0m \u001b[0;34m\u001b[0m\u001b[0m\n",
            "\u001b[0;32m/usr/local/lib/python3.10/dist-packages/py_plan/pattern_matching.py\u001b[0m in \u001b[0;36midentify_determined_vars\u001b[0;34m(term)\u001b[0m\n\u001b[1;32m    317\u001b[0m         \u001b[0;32mif\u001b[0m \u001b[0mterm\u001b[0m\u001b[0;34m[\u001b[0m\u001b[0;36m0\u001b[0m\u001b[0;34m]\u001b[0m \u001b[0;34m==\u001b[0m \u001b[0;34m'not'\u001b[0m \u001b[0;32mor\u001b[0m \u001b[0mcallable\u001b[0m\u001b[0;34m(\u001b[0m\u001b[0mterm\u001b[0m\u001b[0;34m[\u001b[0m\u001b[0;36m0\u001b[0m\u001b[0;34m]\u001b[0m\u001b[0;34m)\u001b[0m\u001b[0;34m:\u001b[0m\u001b[0;34m\u001b[0m\u001b[0;34m\u001b[0m\u001b[0m\n\u001b[1;32m    318\u001b[0m             \u001b[0;32mreturn\u001b[0m \u001b[0mset\u001b[0m\u001b[0;34m(\u001b[0m\u001b[0;34m)\u001b[0m\u001b[0;34m\u001b[0m\u001b[0;34m\u001b[0m\u001b[0m\n\u001b[0;32m--> 319\u001b[0;31m         return set.union(*[identify_determined_vars(ele)\n\u001b[0m\u001b[1;32m    320\u001b[0m                            for ele in term[1:]])\n\u001b[1;32m    321\u001b[0m     \u001b[0;32melif\u001b[0m \u001b[0mis_variable\u001b[0m\u001b[0;34m(\u001b[0m\u001b[0mterm\u001b[0m\u001b[0;34m)\u001b[0m\u001b[0;34m:\u001b[0m\u001b[0;34m\u001b[0m\u001b[0;34m\u001b[0m\u001b[0m\n",
            "\u001b[0;31mTypeError\u001b[0m: unbound method set.union() needs an argument"
          ]
        }
      ]
    }
  ]
}