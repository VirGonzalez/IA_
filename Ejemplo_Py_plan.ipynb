{
  "nbformat": 4,
  "nbformat_minor": 0,
  "metadata": {
    "colab": {
      "provenance": [],
      "include_colab_link": true
    },
    "kernelspec": {
      "name": "python3",
      "display_name": "Python 3"
    },
    "language_info": {
      "name": "python"
    }
  },
  "cells": [
    {
      "cell_type": "markdown",
      "metadata": {
        "id": "view-in-github",
        "colab_type": "text"
      },
      "source": [
        "<a href=\"https://colab.research.google.com/github/VirGonzalez/IA_/blob/main/Ejemplo_Py_plan.ipynb\" target=\"_parent\"><img src=\"https://colab.research.google.com/assets/colab-badge.svg\" alt=\"Open In Colab\"/></a>"
      ]
    },
    {
      "cell_type": "code",
      "execution_count": null,
      "metadata": {
        "colab": {
          "base_uri": "https://localhost:8080/"
        },
        "id": "L99C0XtPSVwl",
        "outputId": "3c0be30e-da89-4d5e-c4c1-1407d7dc5e0a"
      },
      "outputs": [
        {
          "output_type": "stream",
          "name": "stdout",
          "text": [
            "Looking in indexes: https://pypi.org/simple, https://us-python.pkg.dev/colab-wheels/public/simple/\n",
            "Collecting py_plan\n",
            "  Downloading py_plan-1.0.0-py2.py3-none-any.whl (16 kB)\n",
            "Collecting py-search (from py_plan)\n",
            "  Downloading py_search-2.8.0-py2.py3-none-any.whl (24 kB)\n",
            "Collecting concept-formation (from py_plan)\n",
            "  Downloading concept_formation-0.3.9-py2.py3-none-any.whl (296 kB)\n",
            "\u001b[2K     \u001b[90m━━━━━━━━━━━━━━━━━━━━━━━━━━━━━━━━━━━━━━\u001b[0m \u001b[32m296.3/296.3 kB\u001b[0m \u001b[31m10.8 MB/s\u001b[0m eta \u001b[36m0:00:00\u001b[0m\n",
            "\u001b[?25hCollecting munkres>=1.0.12 (from concept-formation->py_plan)\n",
            "  Downloading munkres-1.1.4-py2.py3-none-any.whl (7.0 kB)\n",
            "Requirement already satisfied: tabulate in /usr/local/lib/python3.10/dist-packages (from py-search->py_plan) (0.8.10)\n",
            "Installing collected packages: munkres, py-search, concept-formation, py_plan\n",
            "Successfully installed concept-formation-0.3.9 munkres-1.1.4 py-search-2.8.0 py_plan-1.0.0\n"
          ]
        }
      ],
      "source": [
        "!pip install -U py_plan"
      ]
    },
    {
      "cell_type": "code",
      "source": [
        "# Permite modelar operadores como funciones en python\n",
        "from operator import ne\n",
        "\n",
        "from py_search.uninformed import depth_first_search\n",
        "from py_search.uninformed import breadth_first_search\n",
        "from py_search.uninformed import iterative_deepening_search\n",
        "\n",
        "from py_plan.total_order import StateSpacePlanningProblem\n",
        "from py_plan.base import Operator\n",
        "\n",
        "# Las acciones se definen como instancias de Operator\n",
        "# Debemos indicar NOMBRE, CONDICIONES y EFECTOS (lista de tuplas)\n",
        "# ?x : las variables se definen anteponiendo un ? al nombre\n",
        "move = Operator('move',                      # nombre\n",
        "                [('on', '?b', '?x'),         # condiciones\n",
        "                 ('block', '?b'),\n",
        "                 ('block', '?x'),\n",
        "                 ('block', '?y'),\n",
        "                 ('block', '?other'),\n",
        "                 ('block', '?other2'),\n",
        "                 ('not', ('on', '?other', '?b')),\n",
        "                 ('not', ('on', '?other2', '?y')),\n",
        "                 ('clear', '?b'),\n",
        "                 ('clear', '?y'),\n",
        "                 (ne, '?b', '?x'),            # ne representa la desigualdad\n",
        "                 (ne, '?b', '?y'),\n",
        "                 (ne, '?x', '?y')],\n",
        "                [('on', '?b', '?y'),          # efectos\n",
        "                 ('clear', '?x'),\n",
        "                 ('not', ('on', '?b', '?x')),\n",
        "                 ('not', ('clear', '?y'))\n",
        "                 ])\n",
        "\n",
        "move_from_table = Operator('move_from_table',\n",
        "                           [('on', '?b', 'Table'),\n",
        "                            ('block', '?other'),\n",
        "                            ('block', '?other2'),\n",
        "                            ('not', ('on', '?other', '?b')),\n",
        "                            ('not', ('on', '?other2', '?y')),\n",
        "                            ('clear', '?b'),\n",
        "                            ('clear', '?y'),\n",
        "                            ('block', '?b'),\n",
        "                            ('block', '?y'),\n",
        "                            (ne, '?b', '?y')],\n",
        "                           [('on', '?b', '?y'),\n",
        "                            ('not', ('on', '?b', 'Table')),\n",
        "                            ('not', ('clear', '?y'))\n",
        "                            ])\n",
        "\n",
        "move_to_table = Operator('move_to_table',\n",
        "                         [('on', '?b', '?x'),\n",
        "                          ('block', '?b'),\n",
        "                          ('block', '?x'),\n",
        "                          ('block', '?other'),\n",
        "                          ('not', ('on', '?other', '?b')),\n",
        "                          ('clear', '?b'),\n",
        "                          (ne, '?b', '?x')],\n",
        "                         [('on', '?b', 'Table'),\n",
        "                          ('clear', '?x'),\n",
        "                          ('not', ('on', '?b', '?x'))])\n",
        "\n",
        "# Indica que el código dentro del if es ejecutado cuando el programa es corrido directamente por el interprete\n",
        "# No, cuando es importado como un módulo\n",
        "if __name__ == \"__main__\":\n",
        "    # Definición del ESTADO INICIAL (lista de tuplas)\n",
        "    start = [('on', 'A', 'Table'),   # A sobre la mesa\n",
        "             ('on', 'B', 'Table'),   # B sobre la mesa\n",
        "             ('on', 'C', 'A'),       # C sobre A\n",
        "             ('block', 'A'),         # A es un bloque\n",
        "             ('block', 'B'),         # B es un bloque\n",
        "             ('block', 'C'),         # C es un bloque\n",
        "             ('clear', 'B'),         # B está libre\n",
        "             ('clear', 'C')          # C está libre\n",
        "             ]\n",
        "     # Definición del ESTADO FINAL (lista de tuplas)\n",
        "    goal = [('on', 'A', 'B'),        # A sobre B\n",
        "            ('on', 'B', 'C'),        # B sobre C\n",
        "            ('on', 'C', 'Table')]    # C sobre la mesa\n",
        "\n",
        "    # Progresión, busqueda hacia adelante\n",
        "    def progression(x):\n",
        "        return breadth_first_search(x, forward=True, backward=False)\n",
        "\n",
        "    # Definicion del problema con Estado Inicial, Estado Final y Acciones\n",
        "    p = StateSpacePlanningProblem(start, goal, [move_from_table,\n",
        "                                                move_to_table, move])\n",
        "\n",
        "    # Ejecución del planner y visualización de resultados\n",
        "    print(next(progression(p)).path())\n",
        "\n",
        "    # Ejecución del planner y visualización de resultados con Busqueda iterativa en profundidad\n",
        "    print(next(iterative_deepening_search(p)).path())"
      ],
      "metadata": {
        "colab": {
          "base_uri": "https://localhost:8080/"
        },
        "id": "rFfsI3i2TdcP",
        "outputId": "666480ac-e25c-453f-9a06-05130d9c159a"
      },
      "execution_count": null,
      "outputs": [
        {
          "output_type": "stream",
          "name": "stdout",
          "text": [
            "((move_to_table, {'?b': 'C', '?x': 'A', '?other': 'B'}), (move_from_table, {'?other': 'C', '?y': 'C', '?other2': 'C', '?b': 'B'}), (move_from_table, {'?other': 'C', '?b': 'A', '?other2': 'C', '?y': 'B'}))\n",
            "((move_to_table, {'?b': 'C', '?x': 'A', '?other': 'A'}), (move_from_table, {'?other': 'A', '?y': 'C', '?other2': 'C', '?b': 'B'}), (move_from_table, {'?other2': 'B', '?other': 'A', '?b': 'A', '?y': 'B'}))\n"
          ]
        }
      ]
    }
  ]
}