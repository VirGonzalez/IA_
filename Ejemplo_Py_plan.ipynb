{
  "nbformat": 4,
  "nbformat_minor": 0,
  "metadata": {
    "colab": {
      "provenance": [],
      "include_colab_link": true
    },
    "kernelspec": {
      "name": "python3",
      "display_name": "Python 3"
    },
    "language_info": {
      "name": "python"
    }
  },
  "cells": [
    {
      "cell_type": "markdown",
      "metadata": {
        "id": "view-in-github",
        "colab_type": "text"
      },
      "source": [
        "<a href=\"https://colab.research.google.com/github/VirGonzalez/IA_/blob/main/Ejemplo_Py_plan.ipynb\" target=\"_parent\"><img src=\"https://colab.research.google.com/assets/colab-badge.svg\" alt=\"Open In Colab\"/></a>"
      ]
    },
    {
      "cell_type": "code",
      "execution_count": 1,
      "metadata": {
        "colab": {
          "base_uri": "https://localhost:8080/"
        },
        "id": "L99C0XtPSVwl",
        "outputId": "46c4d8d2-bdb7-4418-9daf-16bb779bcdf1"
      },
      "outputs": [
        {
          "output_type": "stream",
          "name": "stdout",
          "text": [
            "Collecting py_plan\n",
            "  Downloading py_plan-1.0.0-py2.py3-none-any.whl (16 kB)\n",
            "Collecting py-search (from py_plan)\n",
            "  Downloading py_search-2.8.0-py2.py3-none-any.whl (24 kB)\n",
            "Collecting concept-formation (from py_plan)\n",
            "  Downloading concept_formation-0.3.9-py2.py3-none-any.whl (296 kB)\n",
            "\u001b[2K     \u001b[90m━━━━━━━━━━━━━━━━━━━━━━━━━━━━━━━━━━━━━━\u001b[0m \u001b[32m296.3/296.3 kB\u001b[0m \u001b[31m14.3 MB/s\u001b[0m eta \u001b[36m0:00:00\u001b[0m\n",
            "\u001b[?25hCollecting munkres>=1.0.12 (from concept-formation->py_plan)\n",
            "  Downloading munkres-1.1.4-py2.py3-none-any.whl (7.0 kB)\n",
            "Requirement already satisfied: tabulate in /usr/local/lib/python3.10/dist-packages (from py-search->py_plan) (0.8.10)\n",
            "Installing collected packages: munkres, py-search, concept-formation, py_plan\n",
            "Successfully installed concept-formation-0.3.9 munkres-1.1.4 py-search-2.8.0 py_plan-1.0.0\n"
          ]
        }
      ],
      "source": [
        "!pip install -U py_plan"
      ]
    },
    {
      "cell_type": "code",
      "source": [
        "# Permite modelar operadores como funciones en python\n",
        "from operator import ne\n",
        "\n",
        "from py_search.uninformed import depth_first_search\n",
        "from py_search.uninformed import breadth_first_search\n",
        "from py_search.uninformed import iterative_deepening_search\n",
        "\n",
        "from py_plan.total_order import StateSpacePlanningProblem\n",
        "from py_plan.base import Operator\n",
        "\n",
        "# Las acciones se definen como instancias de Operator\n",
        "# Debemos indicar NOMBRE, CONDICIONES y EFECTOS (lista de tuplas)\n",
        "# ?x : las variables se definen anteponiendo un ? al nombre\n",
        "check = Operator('check',                      # nombre\n",
        "                [('esta', '?Matematica', '?Literatura', '?Geografia'),         # condiciones\n",
        "                 ('check', '?Geografia'),\n",
        "                ('check', '?Literatura'),\n",
        "                 ('check', '?Matematica'),\n",
        "                 ('not', ('esta', '?other', '?Geografia')),\n",
        "                  ('not', ('esta', '?other', '?Literatura')),\n",
        "                  ('not', ('esta', '?other', '?Matematica')),\n",
        "                [ ('leer', '?Geografia'), #efecto\n",
        "                ('leer', '?Literatura'),\n",
        "                ('leer', '?Matematica'),\n",
        "                 ])\n",
        "\n",
        "resuelve = Operator('resuelve_ejercicios',\n",
        "                         [('leido', '?Matematica', '?Literatura', '?Geografia'),\n",
        "                            ('resuelve', '?Geografia'),\n",
        "                           ('resuelve', '?Literatura'),\n",
        "                            ('resuelve', '?Matematica'),\n",
        "                         [('done', '?Matematica', '?Literatura', '?Geografia'),\n",
        "                          ('clear', '?mesa')])\n",
        "\n",
        "# Indica que el código dentro del if es ejecutado cuando el programa es corrido directamente por el interprete\n",
        "# No, cuando es importado como un módulo\n",
        "if __name__ == \"__main__\":\n",
        "    # Definición del ESTADO INICIAL (lista de tuplas)\n",
        "    start = [('esta', '?Matematica'),   # tiene la teoria de matematicas\n",
        "             ('esta', '?Literatura'),   # tiene la teoria de literatura\n",
        "             ('esta', '?Geografia')     # tiene la teoria de geografia\n",
        "             ('order', '?Matematica', '?Literatura', '?Geografia'),       # esta ordenada matematica, literatura y luego geografia\n",
        "             ('materia', '?Matematica'),   # Matematica es una clase\n",
        "             ('materia', '?Literatura'),   # Literatura es una clase\n",
        "             ('materia', '?Geografia')  # Geografia es una clase\n",
        "             ('clear', 'B'),         # B está libre\n",
        "             ('clear', 'C')          # C está libre\n",
        "             ]\n",
        "\n",
        "     # Definición del ESTADO FINAL (lista de tuplas)\n",
        "    goal = [('on', 'A', 'B'),        # A sobre B\n",
        "            ('on', 'B', 'C'),        # B sobre C\n",
        "            ('on', 'C', 'Table')]    # C sobre la mesa\n",
        "\n",
        "    # Progresión, busqueda hacia adelante\n",
        "    def progression(x):\n",
        "        return breadth_first_search(x, forward=True, backward=False)\n",
        "\n",
        "    # Definicion del problema con Estado Inicial, Estado Final y Acciones\n",
        "    p = StateSpacePlanningProblem(start, goal, [move_from_table,\n",
        "                                                move_to_table, move])\n",
        "\n",
        "    # Ejecución del planner y visualización de resultados\n",
        "    print(next(progression(p)).path())\n",
        "\n",
        "    # Ejecución del planner y visualización de resultados con Busqueda iterativa en profundidad\n",
        "    print(next(iterative_deepening_search(p)).path())"
      ],
      "metadata": {
        "colab": {
          "base_uri": "https://localhost:8080/"
        },
        "id": "rFfsI3i2TdcP",
        "outputId": "666480ac-e25c-453f-9a06-05130d9c159a"
      },
      "execution_count": null,
      "outputs": [
        {
          "output_type": "stream",
          "name": "stdout",
          "text": [
            "((move_to_table, {'?b': 'C', '?x': 'A', '?other': 'B'}), (move_from_table, {'?other': 'C', '?y': 'C', '?other2': 'C', '?b': 'B'}), (move_from_table, {'?other': 'C', '?b': 'A', '?other2': 'C', '?y': 'B'}))\n",
            "((move_to_table, {'?b': 'C', '?x': 'A', '?other': 'A'}), (move_from_table, {'?other': 'A', '?y': 'C', '?other2': 'C', '?b': 'B'}), (move_from_table, {'?other2': 'B', '?other': 'A', '?b': 'A', '?y': 'B'}))\n"
          ]
        }
      ]
    }
  ]
}